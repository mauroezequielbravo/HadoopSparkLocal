{
 "cells": [
  {
   "cell_type": "code",
   "execution_count": null,
   "metadata": {},
   "source": [
    "import findspark\n",
    "findspark.init()\n",
    "\n",
    "from pyspark.sql import SparkSession\n",
    "\n",
    "# Crear una sesión de Spark\n",
    "spark = SparkSession.builder\\n",
    "    .appName(\"Ejemplo PySpark\")\\n",
    "    .master(\"local[*]\")\\n",
    "    .getOrCreate()\n",
    "\n",
    "# Mostrar información de la sesión\n",
    "print(f\"Versión de Spark: {spark.version}\")\n",
    "\n",
    "# Crear un DataFrame de ejemplo\n",
    "data = [(\"Juan\", 30), (\"Ana\", 25), (\"Carlos\", 35)]\n",
    "df = spark.createDataFrame(data, [\"Nombre\", \"Edad\"])\n",
    "\n",
    "# Mostrar el DataFrame\n",
    "df.show()\n",
    "\n",
    "# Realizar algunas operaciones\n",
    "df.select(\"Nombre\").show()\n",
    "df.filter(df.Edad > 28).show()\n",
    "\n",
    "# Acceder a HDFS\n",
    "# Guardar el DataFrame en HDFS\n",
    "df.write.mode(\"overwrite\").csv(\"/user/root/personas\")\n",
    "\n",
    "# Leer el DataFrame desde HDFS\n",
    "df_leido = spark.read.csv(\"/user/root/personas\")\n",
    "df_leido.show()\n"
   ]
  }
 ],
 "metadata": {
  "kernelspec": {
   "display_name": "Python 3",
   "language": "python",
   "name": "python3"
  },
  "language_info": {
   "codemirror_mode": {
    "name": "ipython",
    "version": 3
   },
   "file_extension": ".py",
   "mimetype": "text/x-python",
   "name": "python",
   "nbconvert_exporter": "python",
   "pygments_lexer": "ipython3",
   "version": "3.8.10"
  }
 },
 "nbformat": 4,
 "nbformat_minor": 4
}
